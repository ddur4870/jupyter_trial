{
 "cells": [
  {
   "cell_type": "code",
   "execution_count": 8,
   "metadata": {},
   "outputs": [],
   "source": [
    "import sys\n",
    "import os\n",
    "import cv2\n",
    "import numpy as np\n",
    "import random\n",
    "from matplotlib import pyplot as plt\n",
    "path_to_video = './Quadrangle.mov'\n",
    "%matplotlib inline"
   ]
  },
  {
   "cell_type": "markdown",
   "metadata": {},
   "source": [
    "##### Some useful/advanced opencv2 online resources on video processing (for your interests only):\n",
    "https://docs.opencv.org/3.0-beta/doc/py_tutorials/py_gui/py_video_display/py_video_display.html"
   ]
  },
  {
   "cell_type": "markdown",
   "metadata": {},
   "source": [
    "### A standard procedure to process video via Opencv"
   ]
  },
  {
   "cell_type": "code",
   "execution_count": 9,
   "metadata": {},
   "outputs": [
    {
     "name": "stdout",
     "output_type": "stream",
     "text": [
      "Video Reach End\n"
     ]
    }
   ],
   "source": [
    "# Capture Video and represent it as a object\n",
    "cap = cv2.VideoCapture(path_to_video)\n",
    "# Check whether video is captured correctly by cv2\n",
    "if not cap.isOpened():\n",
    "    print('{} not opened'.format(path_to_video))\n",
    "    sys.exit(1)\n",
    "# Use cv2 to fetch three important variables\n",
    "time_length = int(cap.get(cv2.CAP_PROP_FRAME_COUNT))\n",
    "frame_height = int(cap.get(cv2.CAP_PROP_FRAME_HEIGHT))\n",
    "frame_width = int(cap.get(cv2.CAP_PROP_FRAME_WIDTH))\n",
    "# Use for loop to have access to video frame by frame\n",
    "while(1):\n",
    "    return_flag, frame = cap.read()  \n",
    "    if not return_flag:\n",
    "        # return_flag=False when the video ends\n",
    "        print('Video Reach End')\n",
    "        break\n",
    "        \n",
    "    # Main Content - Start\n",
    "    cv2.imshow('VideoWindowTitle-Quadrangle', frame)\n",
    "    # Main Content - End\n",
    "    \n",
    "    # cv2.waitKey(30) - delay for 30 milliseconds and return a value to indicate whether this step is successful\n",
    "    # 0xff == ord('q') - out of scope of this course. Don't worry.\n",
    "    if cv2.waitKey(30) & 0xff == ord('q'):\n",
    "        break\n",
    "# Securely release video and close windows\n",
    "cap.release()\n",
    "cv2.destroyAllWindows()"
   ]
  },
  {
   "cell_type": "markdown",
   "metadata": {},
   "source": [
    "### 4.2 Extract Frames from a Video"
   ]
  },
  {
   "cell_type": "code",
   "execution_count": 10,
   "metadata": {},
   "outputs": [],
   "source": [
    "frame_save_path = './frames/'"
   ]
  },
  {
   "cell_type": "code",
   "execution_count": 11,
   "metadata": {},
   "outputs": [],
   "source": [
    "def create_dir_if_not_exists(directory):\n",
    "    if not os.path.exists(directory):\n",
    "        os.makedirs(directory)"
   ]
  },
  {
   "cell_type": "code",
   "execution_count": 12,
   "metadata": {},
   "outputs": [
    {
     "name": "stdout",
     "output_type": "stream",
     "text": [
      "Video Reach End\n"
     ]
    }
   ],
   "source": [
    "cap = cv2.VideoCapture(path_to_video)\n",
    "create_dir_if_not_exists(frame_save_path) # Or you can create it manully\n",
    "if not cap.isOpened():\n",
    "    print('{} not opened'.format(path_to_video))\n",
    "    sys.exit(1)\n",
    "time_length = int(cap.get(cv2.CAP_PROP_FRAME_COUNT))\n",
    "frame_height = int(cap.get(cv2.CAP_PROP_FRAME_HEIGHT))\n",
    "frame_width = int(cap.get(cv2.CAP_PROP_FRAME_WIDTH))\n",
    "frame_counter = 0                                             # FRAME_COUNTER\n",
    "while(1):\n",
    "    return_flag, frame = cap.read()  \n",
    "    if not return_flag:\n",
    "        print('Video Reach End')\n",
    "        break\n",
    "    # Main Content - Start\n",
    "    cv2.imshow('VideoWindowTitle-Quadrangle', frame)\n",
    "    cv2.imwrite(frame_save_path + 'frame%d.tif' % frame_counter, frame)\n",
    "    frame_counter += 1\n",
    "    # Main Content - End    \n",
    "    if cv2.waitKey(30) & 0xff == ord('q'):\n",
    "        break\n",
    "cap.release()\n",
    "cv2.destroyAllWindows()"
   ]
  },
  {
   "cell_type": "markdown",
   "metadata": {},
   "source": [
    "### Convert Frame Sequence to Video"
   ]
  },
  {
   "cell_type": "code",
   "execution_count": 13,
   "metadata": {},
   "outputs": [],
   "source": [
    "frame_load_path = './frames/'\n",
    "path_to_output_video = './new_video.mov'"
   ]
  },
  {
   "cell_type": "code",
   "execution_count": 14,
   "metadata": {},
   "outputs": [
    {
     "name": "stdout",
     "output_type": "stream",
     "text": [
      "No more frames to be loaded\n"
     ]
    }
   ],
   "source": [
    "out = cv2.VideoWriter(path_to_output_video, cv2.VideoWriter_fourcc('M', 'J', 'P', 'G'), 10, (int(frame_width), int(frame_height)))\n",
    "frame_counter = 0\n",
    "while(1):\n",
    "    img = cv2.imread(frame_load_path + 'frame%d.tif' % frame_counter)\n",
    "    if img is None:\n",
    "        print('No more frames to be loaded')\n",
    "        break;\n",
    "    out.write(img)\n",
    "    frame_counter += 1\n",
    "out.release()\n",
    "cv2.destroyAllWindows()"
   ]
  },
  {
   "cell_type": "markdown",
   "metadata": {},
   "source": [
    "### 4.3 Video Compositing by Background Replacement"
   ]
  },
  {
   "cell_type": "markdown",
   "metadata": {},
   "source": [
    "#### Setup"
   ]
  },
  {
   "cell_type": "code",
   "execution_count": 15,
   "metadata": {},
   "outputs": [],
   "source": [
    "if not os.path.isdir(os.path.join(os.getcwd(), 'background')):\n",
    "    os.mkdir(\"background\")\n",
    "else:\n",
    "    print('background already exists')\n",
    "\n",
    "if not os.path.isdir(os.path.join(os.getcwd(), 'composite')):\n",
    "    os.mkdir(\"composite\")\n",
    "else:\n",
    "    print('composite already exists')\n",
    "\n",
    "cap = cv2.VideoCapture('./Quadrangle.mov')\n",
    "if not cap.isOpened():\n",
    "    print('Quadrangle.mov not opened')\n",
    "    sys.exit(1)\n",
    "length = int(cap.get(cv2.CAP_PROP_FRAME_COUNT))\n",
    "frame_height = int(cap.get(cv2.CAP_PROP_FRAME_HEIGHT))\n",
    "frame_width = int(cap.get(cv2.CAP_PROP_FRAME_WIDTH))\n",
    "bgctr = 1 # The total number of background frames\n",
    "count = 0"
   ]
  },
  {
   "cell_type": "markdown",
   "metadata": {},
   "source": [
    "#### 4.3.1 Extract frames from background video"
   ]
  },
  {
   "cell_type": "code",
   "execution_count": 16,
   "metadata": {},
   "outputs": [
    {
     "name": "stdout",
     "output_type": "stream",
     "text": [
      "Video Reach End\n"
     ]
    }
   ],
   "source": [
    "################  TODO  #################\n",
    "# Capture the frames from 'Quadrangle.mov' and store in\n",
    "# 'background' folder\n",
    "path_to_video2 = './Quadrangle.mov'\n",
    "frame_save_path2 = './background/'\n",
    "create_dir_if_not_exists(frame_save_path2)\n",
    "cap = cv2.VideoCapture(path_to_video)\n",
    "create_dir_if_not_exists(frame_save_path2) # Or you can create it manully\n",
    "if not cap.isOpened():\n",
    "    print('{} not opened'.format(path_to_video))\n",
    "    sys.exit(1)\n",
    "time_length = int(cap.get(cv2.CAP_PROP_FRAME_COUNT))\n",
    "frame_height = int(cap.get(cv2.CAP_PROP_FRAME_HEIGHT))\n",
    "frame_width = int(cap.get(cv2.CAP_PROP_FRAME_WIDTH))\n",
    "frame_counter = 0                                             # FRAME_COUNTER\n",
    "while(1):\n",
    "    return_flag, frame = cap.read()  \n",
    "    try: \n",
    "        frame = cv2.resize(frame, (720,576))\n",
    "    except Exception as e:\n",
    "        print(str(e))\n",
    "    if not return_flag:\n",
    "        print('Video Reach End')\n",
    "        break\n",
    "    # Main Content - Start\n",
    "    cv2.imshow('VideoWindowTitle-Quadrangle', frame)\n",
    "    cv2.imwrite(frame_save_path2 + 'frame%d.tif' % frame_counter, frame)\n",
    "    frame_counter += 1\n",
    "    # Main Content - End    \n",
    "    if cv2.waitKey(3) & 0xff == ord('q'):\n",
    "        break\n",
    "cap.release()\n",
    "cv2.destroyAllWindows()"
   ]
  },
  {
   "cell_type": "code",
   "execution_count": null,
   "metadata": {},
   "outputs": [],
   "source": []
  },
  {
   "cell_type": "markdown",
   "metadata": {},
   "source": [
    "#### 4.3.2 Composite contents from both videos"
   ]
  },
  {
   "cell_type": "code",
   "execution_count": 23,
   "metadata": {},
   "outputs": [],
   "source": [
    "BLUE = 120\n",
    "count = 0\n",
    "bgctr = 194\n",
    "\n",
    "cap = cv2.VideoCapture('./monkey.avi')\n",
    "if not cap.isOpened():\n",
    "    print('monkey.avi not opened')\n",
    "    sys.exit(1)\n",
    "length = int(cap.get(cv2.CAP_PROP_FRAME_COUNT))\n",
    "frame_height = int(cap.get(cv2.CAP_PROP_FRAME_HEIGHT))\n",
    "frame_width = int(cap.get(cv2.CAP_PROP_FRAME_WIDTH))\n",
    "while(1):\n",
    "    ret, monkeyframe = cap.read()\n",
    "    if not ret:\n",
    "        break\n",
    "    bg = cv2.imread('background/frame%d.tif' % (count%bgctr))\n",
    "    if bg is None:\n",
    "        print('ooops! no bg found BG/frame%d.tif' % (count%bgctr))\n",
    "        break\n",
    "    # overwrite the background\n",
    "    for x in range(monkeyframe.shape[0]):\n",
    "        for y in range(monkeyframe.shape[1]):\n",
    "            ################  TODO  #################\n",
    "            pixel_value = monkeyframe[x][y]\n",
    "            if pixel_value[0] < BLUE:\n",
    "                bgx = int((x/monkeyframe.shape[0])*bg.shape[0])\n",
    "                bgy = int((y/monkeyframe.shape[1])*bg.shape[1])\n",
    "                bg[bgx,bgy] = pixel_value\n",
    "             # replace the corresponding pixels in 'Quadrangle.mov' with \n",
    "             # non-blue pixels in 'monkey.avi'\n",
    "\n",
    "            #########################################\n",
    "    cv2.imwrite('composite/composite%d.tif' % count, bg)\n",
    "    cv2.putText(img=bg, text='Compositing: %d%%' % int(100*count/length), org=(int(0), int(bg.shape[1] / 2)),\n",
    "                fontFace=cv2.FONT_HERSHEY_DUPLEX, fontScale=0.7,\n",
    "                color=(0, 255, 0))\n",
    "    cv2.imshow('Monkey in Quadrangle', bg)\n",
    "\n",
    "    count += 1\n",
    "    if cv2.waitKey(30) & 0xff == ord('q'):\n",
    "        break\n",
    "\n",
    "cap.release()\n",
    "cv2.destroyAllWindows()"
   ]
  },
  {
   "cell_type": "markdown",
   "metadata": {},
   "source": [
    "#### Convert the composited frame sequence into video"
   ]
  },
  {
   "cell_type": "code",
   "execution_count": 24,
   "metadata": {},
   "outputs": [
    {
     "name": "stdout",
     "output_type": "stream",
     "text": [
      "No more frames to be loaded\n"
     ]
    }
   ],
   "source": [
    "################  TODO  #################\n",
    "# Read the composited frames from 'composite' folder\n",
    "# and covert them into a single output video\n",
    "frame_load_path2 = './composite/'\n",
    "path_to_output_video2 = './submission_video.mov'\n",
    "out2 = cv2.VideoWriter(path_to_output_video2, cv2.VideoWriter_fourcc('M', 'J', 'P', 'G'), 10, (int(frame_width), int(frame_height)))\n",
    "frame_counter = 0\n",
    "while(1):\n",
    "    img = cv2.imread(frame_load_path2 + 'frame%d.tif' % frame_counter)\n",
    "    if img is None:\n",
    "        print('No more frames to be loaded')\n",
    "        break;\n",
    "    out.write(img)\n",
    "    frame_counter += 1\n",
    "out.release()\n",
    "cv2.destroyAllWindows()"
   ]
  },
  {
   "cell_type": "markdown",
   "metadata": {},
   "source": [
    "### Video Compositing by Background Replacement - Week4 Lab Checkpoint Submission\n",
    "You can now use the generate_results() function below to generate your outputs for submission. "
   ]
  },
  {
   "cell_type": "code",
   "execution_count": null,
   "metadata": {},
   "outputs": [],
   "source": [
    "'''\n",
    "    generate_results function is a helper function for you to generate\n",
    "    the output images of lab checkpoint submission\n",
    "    - Function Input: \n",
    "            -            wk:           int, indicates a specific week's lab checkpoint\n",
    "            -          name:           str, the name of the student\n",
    "            -           SID:           int, the SID of the student\n",
    "            -  output_video:           str, the path to output_video\n",
    "\n",
    "    - Function Usage:\n",
    "            - Supply all the arguments with the correct types and a result image\n",
    "              will be generated.\n",
    "    - Tips:\n",
    "            - You can right click the result image plot to save the image or \n",
    "              you can take a screenshoot for the submission.\n",
    "'''\n",
    "def generate_results(wk, name, SID, output_video):\n",
    "    cap = cv2.VideoCapture(output_video)\n",
    "    random_frames = []\n",
    "    if not cap.isOpened():\n",
    "        print('%s not opened' % output_video.split('/')[-1])\n",
    "        sys.exit(1)\n",
    "\n",
    "    frame_count = int(cap.get(cv2.CAP_PROP_FRAME_COUNT))\n",
    "    x = int(cap.get(cv2.CAP_PROP_FRAME_HEIGHT))\n",
    "    y = int(cap.get(cv2.CAP_PROP_FRAME_WIDTH))\n",
    "    while x > 10:\n",
    "        x /= (x / 10)\n",
    "        y /= (y / 10)\n",
    "    \n",
    "    for i in range(3):\n",
    "        random_frames.append(random.randint(1, frame_count))\n",
    "        \n",
    "    fig, axs = plt.subplots(1, 3, figsize=(x,y))\n",
    "        \n",
    "    count = 0\n",
    "    output_count = 0\n",
    "    while(1):\n",
    "        ret, frame = cap.read()\n",
    "        if not ret:\n",
    "            break\n",
    "        if count in random_frames:\n",
    "            frame_m = frame.copy()\n",
    "            frame_R = frame[:,:,2]\n",
    "            frame_B = frame[:,:,0]\n",
    "            frame_m[:,:,2] = frame_B\n",
    "            frame_m[:,:,0] = frame_R\n",
    "            frame = np.uint8(frame_m)\n",
    "\n",
    "            axs[output_count].imshow(frame_m)\n",
    "            axs[output_count].text(0.5,-0.1, 'Composite frame: ' + str(count), size=12, ha=\"center\", transform=axs[output_count].transAxes)\n",
    "            axs[output_count].axis('off')\n",
    "            output_count+=1\n",
    "            \n",
    "            if output_count >= 3:\n",
    "                break\n",
    "        count+=1\n",
    "\n",
    "    cap.release()\n",
    "    cv2.destroyAllWindows()\n",
    "    fig.suptitle(\"Week %i Lab Checkpoint\\n %s SID:%i\"%(wk, name, SID),x=0.5,y=0.75)\n",
    "    plt.tight_layout()\n",
    "    plt.show()"
   ]
  },
  {
   "cell_type": "code",
   "execution_count": null,
   "metadata": {},
   "outputs": [],
   "source": [
    "# Change the 'path_to_output' to the path where your composited video is located\n",
    "path_to_output = './submission_video.mov'\n",
    "generate_results(4, 'Darby Durack', 480386401, path_to_output)"
   ]
  }
 ],
 "metadata": {
  "kernelspec": {
   "display_name": "Python 3",
   "language": "python",
   "name": "python3"
  },
  "language_info": {
   "codemirror_mode": {
    "name": "ipython",
    "version": 3
   },
   "file_extension": ".py",
   "mimetype": "text/x-python",
   "name": "python",
   "nbconvert_exporter": "python",
   "pygments_lexer": "ipython3",
   "version": "3.8.3"
  }
 },
 "nbformat": 4,
 "nbformat_minor": 2
}
